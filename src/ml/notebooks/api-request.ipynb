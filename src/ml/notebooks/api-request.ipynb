{
 "metadata": {
  "language_info": {
   "codemirror_mode": {
    "name": "ipython",
    "version": 3
   },
   "file_extension": ".py",
   "mimetype": "text/x-python",
   "name": "python",
   "nbconvert_exporter": "python",
   "pygments_lexer": "ipython3",
   "version": "3.7.6-final"
  },
  "orig_nbformat": 2,
  "kernelspec": {
   "name": "python37664bithermionea3labenvb81bae5bc4f34c888d6be86098022ba3",
   "display_name": "Python 3.7.6 64-bit ('hermione-a3lab_env')",
   "language": "python"
  }
 },
 "nbformat": 4,
 "nbformat_minor": 2,
 "cells": [
  {
   "cell_type": "code",
   "execution_count": 5,
   "metadata": {},
   "outputs": [],
   "source": [
    "import requests\n",
    "import json\n",
    "\n",
    "url = 'http://localhost:5000/invocations'\n"
   ]
  },
  {
   "cell_type": "code",
   "execution_count": 6,
   "metadata": {},
   "outputs": [],
   "source": [
    "data = {\n",
    "        'Pclass':[3,3,3],\n",
    "        'Sex': ['male', 'female', 'male'],\n",
    "        'Age':[4, 22, 28]\n",
    "    }\n",
    "j_data = json.dumps(data)"
   ]
  },
  {
   "cell_type": "code",
   "execution_count": 7,
   "metadata": {},
   "outputs": [
    {
     "output_type": "execute_result",
     "data": {
      "text/plain": [
       "'{\"Pclass\": [3, 3, 3], \"Sex\": [\"male\", \"female\", \"male\"], \"Age\": [4, 22, 28]}'"
      ]
     },
     "metadata": {},
     "execution_count": 7
    }
   ],
   "source": [
    "j_data"
   ]
  },
  {
   "cell_type": "code",
   "execution_count": 9,
   "metadata": {},
   "outputs": [
    {
     "output_type": "stream",
     "name": "stdout",
     "text": [
      "Sending request for model...\n",
      "Data: {\"Pclass\": [3, 3, 3], \"Sex\": [\"male\", \"female\", \"male\"], \"Age\": [4, 22, 28]}\n",
      "Response: \"[0.25998413 0.66318506 0.        ]\"\n",
      "\n"
     ]
    }
   ],
   "source": [
    "headers = {'Content-Type': 'application/json'}\n",
    "print(\"Sending request for model...\")\n",
    "print(f\"Data: {j_data}\")\n",
    "r = requests.post(url, json=j_data, headers=headers)\n",
    "print(f\"Response: {r.text}\")"
   ]
  }
 ]
}