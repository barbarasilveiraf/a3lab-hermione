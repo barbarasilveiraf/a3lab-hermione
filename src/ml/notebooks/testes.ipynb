{
 "metadata": {
  "language_info": {
   "codemirror_mode": {
    "name": "ipython",
    "version": 3
   },
   "file_extension": ".py",
   "mimetype": "text/x-python",
   "name": "python",
   "nbconvert_exporter": "python",
   "pygments_lexer": "ipython3",
   "version": "3.7.6-final"
  },
  "orig_nbformat": 2,
  "kernelspec": {
   "name": "python37664bithermionea3labenvb81bae5bc4f34c888d6be86098022ba3",
   "display_name": "Python 3.7.6 64-bit ('hermione-a3lab_env')",
   "language": "python"
  }
 },
 "nbformat": 4,
 "nbformat_minor": 2,
 "cells": [
  {
   "cell_type": "code",
   "execution_count": 1,
   "metadata": {},
   "outputs": [],
   "source": [
    "import pandas as pd\n",
    "import io\n",
    "from joblib import load\n",
    "import logging\n",
    "\n",
    "logging.getLogger().setLevel(logging.INFO)"
   ]
  },
  {
   "cell_type": "code",
   "execution_count": 2,
   "metadata": {},
   "outputs": [],
   "source": [
    "import sys\n",
    "sys.path.append(\"../../\")"
   ]
  },
  {
   "cell_type": "code",
   "execution_count": 3,
   "metadata": {},
   "outputs": [],
   "source": [
    "def generate_data():\n",
    "    new_data = pd.DataFrame({\n",
    "        'Pclass':[3,2,1],\n",
    "        'Sex': ['male', 'female', 'male'],\n",
    "        'Age':[4, 22, 28]\n",
    "    })\n",
    "    return new_data\n",
    "\n",
    "\n",
    "def load_model():\n",
    "    try:\n",
    "        return load('../output/titanic_model_rf.pkl')\n",
    "    except:\n",
    "        try: \n",
    "            return load('../../output/titanic_model_rf.pkl')\n",
    "        except:\n",
    "            logging.error('Model not loaded')\n",
    "\n",
    "\n",
    "def predict_new(X, probs=True):\n",
    "    model = load_model()\n",
    "    p = model.get_preprocessing()\n",
    "    \n",
    "    X = p.clean_data(X)\n",
    "    X = p.categ_encoding(X)\n",
    "    \n",
    "    columns = model.get_columns()\n",
    "    for col in columns:\n",
    "        if col not in X.columns:\n",
    "            X[col] = 0\n",
    "    if probs:\n",
    "        return model.predict_proba(X)[:,1]\n",
    "    else:\n",
    "        return model.predict(X)\n"
   ]
  },
  {
   "cell_type": "code",
   "execution_count": 4,
   "metadata": {},
   "outputs": [],
   "source": [
    "model = load('/home/barbara/hermione/hermione-a3lab/output/titanic_model_rf.pkl')"
   ]
  },
  {
   "cell_type": "code",
   "execution_count": 5,
   "metadata": {},
   "outputs": [
    {
     "output_type": "execute_result",
     "data": {
      "text/plain": [
       "{'model': RandomForestClassifier(),\n",
       " 'preprocessing': <ml.preprocessing.preprocessing.Preprocessing at 0x7f5ae30c9750>,\n",
       " 'metrics': {'fit_time': 0.1420172,\n",
       "  'score_time': 0.0275321,\n",
       "  'accuracy': 0.8166979,\n",
       "  'f1': 0.7591926,\n",
       "  'recall': 0.7107733,\n",
       "  'precision': 0.8160751,\n",
       "  'roc_auc': 0.8450806},\n",
       " 'columns': ['Age',\n",
       "  'Pclass_1',\n",
       "  'Pclass_2',\n",
       "  'Pclass_3',\n",
       "  'Sex_female',\n",
       "  'Sex_male'],\n",
       " 'creation_date': datetime.date(2021, 2, 21)}"
      ]
     },
     "metadata": {},
     "execution_count": 5
    }
   ],
   "source": [
    "model.artifacts"
   ]
  },
  {
   "cell_type": "code",
   "execution_count": null,
   "metadata": {},
   "outputs": [],
   "source": []
  }
 ]
}